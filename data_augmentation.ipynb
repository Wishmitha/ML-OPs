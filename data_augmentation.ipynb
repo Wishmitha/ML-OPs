{
 "cells": [
  {
   "cell_type": "code",
   "execution_count": 30,
   "metadata": {
    "collapsed": true
   },
   "outputs": [],
   "source": [
    "from sklearn.model_selection import train_test_split\n",
    "\n",
    "from data import LabelEncoder\n",
    "from data import clean_text\n",
    "\n",
    "import pandas as pd\n",
    "import numpy as np\n",
    "import random\n",
    "\n",
    "import nlpaug.augmenter.word as naw\n",
    "\n",
    "import re\n",
    "\n",
    "from snorkel.augmentation import transformation_function\n",
    "from snorkel.augmentation import ApplyOnePolicy, PandasTFApplier"
   ]
  },
  {
   "cell_type": "code",
   "execution_count": 3,
   "outputs": [],
   "source": [
    "%store -r X\n",
    "%store -r y"
   ],
   "metadata": {
    "collapsed": false,
    "pycharm": {
     "name": "#%%\n"
    }
   }
  },
  {
   "cell_type": "code",
   "execution_count": 4,
   "outputs": [],
   "source": [
    "label_encoder = LabelEncoder()\n",
    "label_encoder.fit(y)\n",
    "y = label_encoder.encode(y)"
   ],
   "metadata": {
    "collapsed": false,
    "pycharm": {
     "name": "#%%\n"
    }
   }
  },
  {
   "cell_type": "code",
   "execution_count": 5,
   "outputs": [],
   "source": [
    "# Split sizes\n",
    "train_size = 0.7\n",
    "val_size = 0.15\n",
    "test_size = 0.15"
   ],
   "metadata": {
    "collapsed": false,
    "pycharm": {
     "name": "#%%\n"
    }
   }
  },
  {
   "cell_type": "code",
   "execution_count": 6,
   "outputs": [],
   "source": [
    "# Split (train)\n",
    "X_train, X_, y_train, y_ = train_test_split(X, y, train_size=train_size, stratify=y)"
   ],
   "metadata": {
    "collapsed": false,
    "pycharm": {
     "name": "#%%\n"
    }
   }
  },
  {
   "cell_type": "code",
   "execution_count": 7,
   "outputs": [
    {
     "name": "stdout",
     "output_type": "stream",
     "text": [
      "train: 668 (0.70)\n",
      "remaining: 287 (0.30)\n"
     ]
    }
   ],
   "source": [
    "print (f\"train: {len(X_train)} ({(len(X_train) / len(X)):.2f})\\n\"f\"remaining: {len(X_)} ({(len(X_) / len(X)):.2f})\")"
   ],
   "metadata": {
    "collapsed": false,
    "pycharm": {
     "name": "#%%\n"
    }
   }
  },
  {
   "cell_type": "code",
   "execution_count": 8,
   "outputs": [],
   "source": [
    "# Split (test)\n",
    "X_val, X_test, y_val, y_test = train_test_split(X_, y_, train_size=0.5, stratify=y_)"
   ],
   "metadata": {
    "collapsed": false,
    "pycharm": {
     "name": "#%%\n"
    }
   }
  },
  {
   "cell_type": "code",
   "execution_count": 9,
   "outputs": [
    {
     "name": "stdout",
     "output_type": "stream",
     "text": [
      "train: 668 (0.70)\n",
      "val: 143 (0.15)\n",
      "test: 144 (0.15)\n"
     ]
    }
   ],
   "source": [
    "print(f\"train: {len(X_train)} ({len(X_train)/len(X):.2f})\\n\"\n",
    "      f\"val: {len(X_val)} ({len(X_val)/len(X):.2f})\\n\"\n",
    "      f\"test: {len(X_test)} ({len(X_test)/len(X):.2f})\")"
   ],
   "metadata": {
    "collapsed": false,
    "pycharm": {
     "name": "#%%\n"
    }
   }
  },
  {
   "cell_type": "code",
   "execution_count": 10,
   "outputs": [],
   "source": [
    "# Get counts for each class\n",
    "counts = {}\n",
    "counts[\"train_counts\"] = {tag: label_encoder.decode(y_train).count(tag) for tag in label_encoder.classes}\n",
    "counts[\"val_counts\"] = {tag: label_encoder.decode(y_val).count(tag) for tag in label_encoder.classes}\n",
    "counts[\"test_counts\"] = {tag: label_encoder.decode(y_test).count(tag) for tag in label_encoder.classes}"
   ],
   "metadata": {
    "collapsed": false,
    "pycharm": {
     "name": "#%%\n"
    }
   }
  },
  {
   "cell_type": "code",
   "execution_count": 11,
   "outputs": [
    {
     "data": {
      "text/plain": "         0   1    2   3\ntrain  249  55  272  92\nval     53  12   58  20\ntest    54  12   58  20",
      "text/html": "<div>\n<style scoped>\n    .dataframe tbody tr th:only-of-type {\n        vertical-align: middle;\n    }\n\n    .dataframe tbody tr th {\n        vertical-align: top;\n    }\n\n    .dataframe thead th {\n        text-align: right;\n    }\n</style>\n<table border=\"1\" class=\"dataframe\">\n  <thead>\n    <tr style=\"text-align: right;\">\n      <th></th>\n      <th>0</th>\n      <th>1</th>\n      <th>2</th>\n      <th>3</th>\n    </tr>\n  </thead>\n  <tbody>\n    <tr>\n      <th>train</th>\n      <td>249</td>\n      <td>55</td>\n      <td>272</td>\n      <td>92</td>\n    </tr>\n    <tr>\n      <th>val</th>\n      <td>53</td>\n      <td>12</td>\n      <td>58</td>\n      <td>20</td>\n    </tr>\n    <tr>\n      <th>test</th>\n      <td>54</td>\n      <td>12</td>\n      <td>58</td>\n      <td>20</td>\n    </tr>\n  </tbody>\n</table>\n</div>"
     },
     "execution_count": 11,
     "metadata": {},
     "output_type": "execute_result"
    }
   ],
   "source": [
    "# View distributions\n",
    "pd.DataFrame({\n",
    "    \"train\": counts[\"train_counts\"],\n",
    "    \"val\": counts[\"val_counts\"],\n",
    "    \"test\": counts[\"test_counts\"]\n",
    "}).T.fillna(0)"
   ],
   "metadata": {
    "collapsed": false,
    "pycharm": {
     "name": "#%%\n"
    }
   }
  },
  {
   "cell_type": "code",
   "execution_count": 12,
   "outputs": [],
   "source": [
    "# Adjust counts across splits\n",
    "for k in counts[\"val_counts\"].keys():\n",
    "    counts[\"val_counts\"][k] = int(counts[\"val_counts\"][k] * \\\n",
    "        (train_size/val_size))\n",
    "for k in counts[\"test_counts\"].keys():\n",
    "    counts[\"test_counts\"][k] = int(counts[\"test_counts\"][k] * \\\n",
    "        (train_size/test_size))"
   ],
   "metadata": {
    "collapsed": false,
    "pycharm": {
     "name": "#%%\n"
    }
   }
  },
  {
   "cell_type": "code",
   "execution_count": 13,
   "outputs": [
    {
     "data": {
      "text/plain": "         0   1    2   3\ntrain  249  55  272  92\nval    247  56  270  93\ntest   252  56  270  93",
      "text/html": "<div>\n<style scoped>\n    .dataframe tbody tr th:only-of-type {\n        vertical-align: middle;\n    }\n\n    .dataframe tbody tr th {\n        vertical-align: top;\n    }\n\n    .dataframe thead th {\n        text-align: right;\n    }\n</style>\n<table border=\"1\" class=\"dataframe\">\n  <thead>\n    <tr style=\"text-align: right;\">\n      <th></th>\n      <th>0</th>\n      <th>1</th>\n      <th>2</th>\n      <th>3</th>\n    </tr>\n  </thead>\n  <tbody>\n    <tr>\n      <th>train</th>\n      <td>249</td>\n      <td>55</td>\n      <td>272</td>\n      <td>92</td>\n    </tr>\n    <tr>\n      <th>val</th>\n      <td>247</td>\n      <td>56</td>\n      <td>270</td>\n      <td>93</td>\n    </tr>\n    <tr>\n      <th>test</th>\n      <td>252</td>\n      <td>56</td>\n      <td>270</td>\n      <td>93</td>\n    </tr>\n  </tbody>\n</table>\n</div>"
     },
     "execution_count": 13,
     "metadata": {},
     "output_type": "execute_result"
    }
   ],
   "source": [
    "dist_df = pd.DataFrame({\n",
    "    \"train\": counts[\"train_counts\"],\n",
    "    \"val\": counts[\"val_counts\"],\n",
    "    \"test\": counts[\"test_counts\"]\n",
    "}).T.fillna(0)\n",
    "dist_df"
   ],
   "metadata": {
    "collapsed": false,
    "pycharm": {
     "name": "#%%\n"
    }
   }
  },
  {
   "cell_type": "code",
   "execution_count": 14,
   "outputs": [
    {
     "data": {
      "text/plain": "0.9851056877051131"
     },
     "execution_count": 14,
     "metadata": {},
     "output_type": "execute_result"
    }
   ],
   "source": [
    "# Standard deviation\n",
    "np.mean(np.std(dist_df.to_numpy(), axis=0))"
   ],
   "metadata": {
    "collapsed": false,
    "pycharm": {
     "name": "#%%\n"
    }
   }
  },
  {
   "cell_type": "code",
   "execution_count": 15,
   "outputs": [
    {
     "data": {
      "text/plain": "                                                text  tag\n0  python automated term extraction term extracti...    2\n1  attention based yolo object detection easy fol...    0\n2  codequestion ask coding questions directly ter...    2\n3  custom classifier top bert like language model...    2\n4  pegasus sota model abstractive text summarizat...    2",
      "text/html": "<div>\n<style scoped>\n    .dataframe tbody tr th:only-of-type {\n        vertical-align: middle;\n    }\n\n    .dataframe tbody tr th {\n        vertical-align: top;\n    }\n\n    .dataframe thead th {\n        text-align: right;\n    }\n</style>\n<table border=\"1\" class=\"dataframe\">\n  <thead>\n    <tr style=\"text-align: right;\">\n      <th></th>\n      <th>text</th>\n      <th>tag</th>\n    </tr>\n  </thead>\n  <tbody>\n    <tr>\n      <th>0</th>\n      <td>python automated term extraction term extracti...</td>\n      <td>2</td>\n    </tr>\n    <tr>\n      <th>1</th>\n      <td>attention based yolo object detection easy fol...</td>\n      <td>0</td>\n    </tr>\n    <tr>\n      <th>2</th>\n      <td>codequestion ask coding questions directly ter...</td>\n      <td>2</td>\n    </tr>\n    <tr>\n      <th>3</th>\n      <td>custom classifier top bert like language model...</td>\n      <td>2</td>\n    </tr>\n    <tr>\n      <th>4</th>\n      <td>pegasus sota model abstractive text summarizat...</td>\n      <td>2</td>\n    </tr>\n  </tbody>\n</table>\n</div>"
     },
     "execution_count": 15,
     "metadata": {},
     "output_type": "execute_result"
    }
   ],
   "source": [
    "# Split DataFrames\n",
    "train_df = pd.DataFrame({\"text\": X_train, \"tag\": label_encoder.decode(y_train)})\n",
    "val_df = pd.DataFrame({\"text\": X_val, \"tag\": label_encoder.decode(y_val)})\n",
    "test_df = pd.DataFrame({\"text\": X_test, \"tag\": label_encoder.decode(y_test)})\n",
    "train_df.head()"
   ],
   "metadata": {
    "collapsed": false,
    "pycharm": {
     "name": "#%%\n"
    }
   }
  },
  {
   "cell_type": "code",
   "execution_count": 16,
   "outputs": [],
   "source": [
    "# Load tokenizers and transformers\n",
    "substitution = naw.ContextualWordEmbsAug(model_path=\"distilbert-base-uncased\", action=\"substitute\")\n",
    "insertion = naw.ContextualWordEmbsAug(model_path=\"distilbert-base-uncased\", action=\"insert\")\n",
    "text = \"Conditional image generation using Variational Autoencoders and GANs.\""
   ],
   "metadata": {
    "collapsed": false,
    "pycharm": {
     "name": "#%%\n"
    }
   }
  },
  {
   "cell_type": "code",
   "execution_count": 17,
   "outputs": [
    {
     "data": {
      "text/plain": "['sequential set generation produces likelihood distributions and gans.']"
     },
     "execution_count": 17,
     "metadata": {},
     "output_type": "execute_result"
    }
   ],
   "source": [
    "# Substitutions\n",
    "substitution.augment(text)"
   ],
   "metadata": {
    "collapsed": false,
    "pycharm": {
     "name": "#%%\n"
    }
   }
  },
  {
   "cell_type": "code",
   "execution_count": 18,
   "outputs": [
    {
     "data": {
      "text/plain": "['numerical conditional image generation techniques using variational additive autoencoders processors and quantum gans.']"
     },
     "execution_count": 18,
     "metadata": {},
     "output_type": "execute_result"
    }
   ],
   "source": [
    "# Insertions\n",
    "insertion.augment(text)"
   ],
   "metadata": {
    "collapsed": false,
    "pycharm": {
     "name": "#%%\n"
    }
   }
  },
  {
   "cell_type": "code",
   "execution_count": 19,
   "outputs": [],
   "source": [
    "# Replace dashes from tags & aliases\n",
    "def replace_dash(x):\n",
    "    return x.replace(\"-\", \" \")"
   ],
   "metadata": {
    "collapsed": false,
    "pycharm": {
     "name": "#%%\n"
    }
   }
  },
  {
   "cell_type": "code",
   "execution_count": 20,
   "outputs": [],
   "source": [
    "# Aliases\n",
    "aliases_by_tag = {\n",
    "    \"computer-vision\": [\"cv\", \"vision\"],\n",
    "    \"mlops\": [\"production\"],\n",
    "    \"natural-language-processing\": [\"nlp\", \"nlproc\"]\n",
    "}"
   ],
   "metadata": {
    "collapsed": false,
    "pycharm": {
     "name": "#%%\n"
    }
   }
  },
  {
   "cell_type": "code",
   "execution_count": 21,
   "outputs": [],
   "source": [
    "# Flatten dict\n",
    "flattened_aliases = {}\n",
    "for tag, aliases in aliases_by_tag.items():\n",
    "    tag = replace_dash(x=tag)\n",
    "    if len(aliases):\n",
    "        flattened_aliases[tag] = aliases\n",
    "    for alias in aliases:\n",
    "        _aliases = aliases + [tag]\n",
    "        _aliases.remove(alias)\n",
    "        flattened_aliases[alias] = _aliases"
   ],
   "metadata": {
    "collapsed": false,
    "pycharm": {
     "name": "#%%\n"
    }
   }
  },
  {
   "cell_type": "code",
   "execution_count": 22,
   "outputs": [
    {
     "name": "stdout",
     "output_type": "stream",
     "text": [
      "['nlp', 'nlproc']\n",
      "['nlproc', 'natural language processing']\n"
     ]
    }
   ],
   "source": [
    "print (flattened_aliases[\"natural language processing\"])\n",
    "print (flattened_aliases[\"nlp\"])"
   ],
   "metadata": {
    "collapsed": false,
    "pycharm": {
     "name": "#%%\n"
    }
   }
  },
  {
   "cell_type": "code",
   "execution_count": 23,
   "outputs": [
    {
     "name": "stdout",
     "output_type": "stream",
     "text": [
      "True\n",
      "True\n"
     ]
    }
   ],
   "source": [
    "# We want to match with the whole word only\n",
    "print (\"gan\" in \"This is a gan.\")\n",
    "print (\"gan\" in \"This is gandalf.\")"
   ],
   "metadata": {
    "collapsed": false,
    "pycharm": {
     "name": "#%%\n"
    }
   }
  },
  {
   "cell_type": "code",
   "execution_count": 24,
   "outputs": [],
   "source": [
    "# \\b matches spaces\n",
    "def find_word(word, text):\n",
    "    word = word.replace(\"+\", \"\\+\")\n",
    "    pattern = re.compile(fr\"\\b({word})\\b\", flags=re.IGNORECASE)\n",
    "    return pattern.search(text)"
   ],
   "metadata": {
    "collapsed": false,
    "pycharm": {
     "name": "#%%\n"
    }
   }
  },
  {
   "cell_type": "code",
   "execution_count": 25,
   "outputs": [
    {
     "name": "stdout",
     "output_type": "stream",
     "text": [
      "<re.Match object; span=(10, 13), match='gan'>\n",
      "None\n"
     ]
    }
   ],
   "source": [
    "# Correct behavior (single instance)\n",
    "print (find_word(\"gan\", \"This is a gan.\"))\n",
    "print (find_word(\"gan\", \"This is gandalf.\"))"
   ],
   "metadata": {
    "collapsed": false,
    "pycharm": {
     "name": "#%%\n"
    }
   }
  },
  {
   "cell_type": "code",
   "execution_count": 26,
   "outputs": [],
   "source": [
    "@transformation_function()\n",
    "def swap_aliases(x):\n",
    "    \"\"\"Swap ML keywords with their aliases.\"\"\"\n",
    "    # Find all matches\n",
    "    matches = []\n",
    "    for i, tag in enumerate(flattened_aliases):\n",
    "        match = find_word(tag, x.text)\n",
    "        if match:\n",
    "            matches.append(match)\n",
    "    # Swap a random match with a random alias\n",
    "    if len(matches):\n",
    "        match = random.choice(matches)\n",
    "        tag = x.text[match.start():match.end()]\n",
    "        x.text = f\"{x.text[:match.start()]}{random.choice(flattened_aliases[tag])}{x.text[match.end():]}\"\n",
    "    return x"
   ],
   "metadata": {
    "collapsed": false,
    "pycharm": {
     "name": "#%%\n"
    }
   }
  },
  {
   "cell_type": "code",
   "execution_count": 27,
   "outputs": [
    {
     "name": "stdout",
     "output_type": "stream",
     "text": [
      "survey reinforcement learning natural language processing tasks\n",
      "survey reinforcement learning natural language processing tasks\n",
      "survey reinforcement learning natural language processing tasks\n"
     ]
    }
   ],
   "source": [
    "# Swap\n",
    "for i in range(3):\n",
    "    sample_df = pd.DataFrame([{\"text\": \"a survey of reinforcement learning for nlp tasks.\"}])\n",
    "    sample_df.text = sample_df.text.apply(clean_text, lower=True, stem=False)\n",
    "    print (swap_aliases(sample_df.iloc[0]).text)"
   ],
   "metadata": {
    "collapsed": false,
    "pycharm": {
     "name": "#%%\n"
    }
   }
  },
  {
   "cell_type": "code",
   "execution_count": 28,
   "outputs": [
    {
     "name": "stdout",
     "output_type": "stream",
     "text": [
      "autogenerate vision apply jobs using nlp\n",
      "autogenerate cv apply jobs using natural language processing\n",
      "autogenerate computer vision apply jobs using nlp\n"
     ]
    }
   ],
   "source": [
    "# Undesired behavior (needs contextual insight)\n",
    "for i in range(3):\n",
    "    sample_df = pd.DataFrame([{\"text\": \"Autogenerate your CV to apply for jobs using NLP.\"}])\n",
    "    sample_df.text = sample_df.text.apply(clean_text, lower=True, stem=False)\n",
    "    print (swap_aliases(sample_df.iloc[0]).text)"
   ],
   "metadata": {
    "collapsed": false,
    "pycharm": {
     "name": "#%%\n"
    }
   }
  },
  {
   "cell_type": "code",
   "execution_count": 31,
   "outputs": [
    {
     "name": "stderr",
     "output_type": "stream",
     "text": [
      "100%|██████████| 668/668 [00:01<00:00, 429.03it/s]\n"
     ]
    },
    {
     "data": {
      "text/plain": "                                                text  tag\n0  python automated term extraction term extracti...    2\n1  attention based yolo object detection easy fol...    0\n2  codequestion ask coding questions directly ter...    2\n3  custom classifier top bert like language model...    2\n4  pegasus sota model abstractive text summarizat...    2",
      "text/html": "<div>\n<style scoped>\n    .dataframe tbody tr th:only-of-type {\n        vertical-align: middle;\n    }\n\n    .dataframe tbody tr th {\n        vertical-align: top;\n    }\n\n    .dataframe thead th {\n        text-align: right;\n    }\n</style>\n<table border=\"1\" class=\"dataframe\">\n  <thead>\n    <tr style=\"text-align: right;\">\n      <th></th>\n      <th>text</th>\n      <th>tag</th>\n    </tr>\n  </thead>\n  <tbody>\n    <tr>\n      <th>0</th>\n      <td>python automated term extraction term extracti...</td>\n      <td>2</td>\n    </tr>\n    <tr>\n      <th>1</th>\n      <td>attention based yolo object detection easy fol...</td>\n      <td>0</td>\n    </tr>\n    <tr>\n      <th>2</th>\n      <td>codequestion ask coding questions directly ter...</td>\n      <td>2</td>\n    </tr>\n    <tr>\n      <th>3</th>\n      <td>custom classifier top bert like language model...</td>\n      <td>2</td>\n    </tr>\n    <tr>\n      <th>4</th>\n      <td>pegasus sota model abstractive text summarizat...</td>\n      <td>2</td>\n    </tr>\n  </tbody>\n</table>\n</div>"
     },
     "execution_count": 31,
     "metadata": {},
     "output_type": "execute_result"
    }
   ],
   "source": [
    "# Transformation function (TF) policy\n",
    "policy = ApplyOnePolicy(n_per_original=5, keep_original=True)\n",
    "tf_applier = PandasTFApplier([swap_aliases], policy)\n",
    "train_df_augmented = tf_applier.apply(train_df)\n",
    "train_df_augmented.drop_duplicates(subset=[\"text\"], inplace=True)\n",
    "train_df_augmented.head()"
   ],
   "metadata": {
    "collapsed": false,
    "pycharm": {
     "name": "#%%\n"
    }
   }
  },
  {
   "cell_type": "code",
   "execution_count": 33,
   "outputs": [
    {
     "data": {
      "text/plain": "(668, 864)"
     },
     "execution_count": 33,
     "metadata": {},
     "output_type": "execute_result"
    }
   ],
   "source": [
    "len(train_df), len(train_df_augmented)"
   ],
   "metadata": {
    "collapsed": false,
    "pycharm": {
     "name": "#%%\n"
    }
   }
  },
  {
   "cell_type": "code",
   "execution_count": null,
   "outputs": [],
   "source": [],
   "metadata": {
    "collapsed": false,
    "pycharm": {
     "name": "#%%\n"
    }
   }
  }
 ],
 "metadata": {
  "kernelspec": {
   "display_name": "Python 3",
   "language": "python",
   "name": "python3"
  },
  "language_info": {
   "codemirror_mode": {
    "name": "ipython",
    "version": 2
   },
   "file_extension": ".py",
   "mimetype": "text/x-python",
   "name": "python",
   "nbconvert_exporter": "python",
   "pygments_lexer": "ipython2",
   "version": "2.7.6"
  }
 },
 "nbformat": 4,
 "nbformat_minor": 0
}