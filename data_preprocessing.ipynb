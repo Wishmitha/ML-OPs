{
 "cells": [
  {
   "cell_type": "code",
   "execution_count": 1,
   "metadata": {
    "collapsed": true
   },
   "outputs": [
    {
     "name": "stderr",
     "output_type": "stream",
     "text": [
      "[nltk_data] Downloading package stopwords to\n",
      "[nltk_data]     C:\\Users\\wishm\\AppData\\Roaming\\nltk_data...\n",
      "[nltk_data]   Package stopwords is already up-to-date!\n"
     ]
    }
   ],
   "source": [
    "import nltk\n",
    "from nltk.corpus import stopwords\n",
    "from nltk.stem import PorterStemmer\n",
    "import re\n",
    "\n",
    "from data import LabelEncoder\n",
    "from data import clean_text\n",
    "\n",
    "from collections import Counter\n",
    "import ipywidgets as widgets\n",
    "import matplotlib.pyplot as plt\n",
    "import seaborn as sns\n",
    "import warnings\n",
    "from wordcloud import WordCloud, STOPWORDS\n",
    "sns.set_theme()\n",
    "warnings.filterwarnings(\"ignore\")\n",
    "\n",
    "import json\n",
    "\n",
    "import numpy as np\n",
    "import random\n",
    "import pandas as pd"
   ]
  },
  {
   "cell_type": "code",
   "execution_count": 2,
   "outputs": [],
   "source": [
    "%store -r df"
   ],
   "metadata": {
    "collapsed": false,
    "pycharm": {
     "name": "#%%\n"
    }
   }
  },
  {
   "cell_type": "code",
   "execution_count": 3,
   "outputs": [],
   "source": [
    "df[\"text\"] = df.title + \" \" + df.description"
   ],
   "metadata": {
    "collapsed": false,
    "pycharm": {
     "name": "#%%\n"
    }
   }
  },
  {
   "cell_type": "code",
   "execution_count": 7,
   "outputs": [
    {
     "name": "stdout",
     "output_type": "stream",
     "text": [
      "comparison yolo rcnn real world videos bringing theory experiment cool easily train models colab find results minutes\n",
      "comparison yolo rcnn real world videos bringing theory experiment cool easily train models colab find results minutes\n"
     ]
    }
   ],
   "source": [
    "# Apply to dataframe\n",
    "original_df = df.copy()\n",
    "df.text = df.text.apply(clean_text, lower=True, stem=False)\n",
    "print (f\"{original_df.text.values[0]}\\n{df.text.values[0]}\")"
   ],
   "metadata": {
    "collapsed": false,
    "pycharm": {
     "name": "#%%\n"
    }
   }
  },
  {
   "cell_type": "code",
   "execution_count": 8,
   "outputs": [],
   "source": [
    "# Accepted tags (external constraint)\n",
    "ACCEPTED_TAGS = [\"natural-language-processing\", \"computer-vision\", \"mlops\", \"graph-learning\"]"
   ],
   "metadata": {
    "collapsed": false,
    "pycharm": {
     "name": "#%%\n"
    }
   }
  },
  {
   "cell_type": "code",
   "execution_count": 9,
   "outputs": [
    {
     "data": {
      "text/plain": "['reinforcement-learning', 'time-series']"
     },
     "execution_count": 9,
     "metadata": {},
     "output_type": "execute_result"
    }
   ],
   "source": [
    "# Out of scope (OOS) tags\n",
    "oos_tags = [item for item in df.tag.unique() if item not in ACCEPTED_TAGS]\n",
    "oos_tags"
   ],
   "metadata": {
    "collapsed": false,
    "pycharm": {
     "name": "#%%\n"
    }
   }
  },
  {
   "cell_type": "code",
   "execution_count": 10,
   "outputs": [
    {
     "data": {
      "text/plain": "     id           created_on                                       title  \\\n3    15  2020-02-28 23:55:26             Awesome Monte Carlo Tree Search   \n37  121  2020-03-24 04:56:38  Deep Reinforcement Learning in TensorFlow2   \n67  218  2020-04-06 11:29:57         Distributional RL using TensorFlow2   \n74  239  2020-04-06 18:39:48               Prophet: Forecasting At Scale   \n95  277  2020-04-07 00:30:33       Curriculum for Reinforcement Learning   \n\n                                          description                     tag  \\\n3   A curated list of Monte Carlo tree search pape...  reinforcement-learning   \n37  deep-rl-tf2 is a repository that implements a ...  reinforcement-learning   \n67  🐳 Implementation of various Distributional Rei...  reinforcement-learning   \n74  Tool for producing high quality forecasts for ...             time-series   \n95  Curriculum learning applied to reinforcement l...  reinforcement-learning   \n\n                                                 text  \n3   awesome monte carlo tree search curated list m...  \n37  deep reinforcement learning tensorflow2 deep r...  \n67  distributional rl using tensorflow2 implementa...  \n74  prophet forecasting scale tool producing high ...  \n95  curriculum reinforcement learning curriculum l...  ",
      "text/html": "<div>\n<style scoped>\n    .dataframe tbody tr th:only-of-type {\n        vertical-align: middle;\n    }\n\n    .dataframe tbody tr th {\n        vertical-align: top;\n    }\n\n    .dataframe thead th {\n        text-align: right;\n    }\n</style>\n<table border=\"1\" class=\"dataframe\">\n  <thead>\n    <tr style=\"text-align: right;\">\n      <th></th>\n      <th>id</th>\n      <th>created_on</th>\n      <th>title</th>\n      <th>description</th>\n      <th>tag</th>\n      <th>text</th>\n    </tr>\n  </thead>\n  <tbody>\n    <tr>\n      <th>3</th>\n      <td>15</td>\n      <td>2020-02-28 23:55:26</td>\n      <td>Awesome Monte Carlo Tree Search</td>\n      <td>A curated list of Monte Carlo tree search pape...</td>\n      <td>reinforcement-learning</td>\n      <td>awesome monte carlo tree search curated list m...</td>\n    </tr>\n    <tr>\n      <th>37</th>\n      <td>121</td>\n      <td>2020-03-24 04:56:38</td>\n      <td>Deep Reinforcement Learning in TensorFlow2</td>\n      <td>deep-rl-tf2 is a repository that implements a ...</td>\n      <td>reinforcement-learning</td>\n      <td>deep reinforcement learning tensorflow2 deep r...</td>\n    </tr>\n    <tr>\n      <th>67</th>\n      <td>218</td>\n      <td>2020-04-06 11:29:57</td>\n      <td>Distributional RL using TensorFlow2</td>\n      <td>🐳 Implementation of various Distributional Rei...</td>\n      <td>reinforcement-learning</td>\n      <td>distributional rl using tensorflow2 implementa...</td>\n    </tr>\n    <tr>\n      <th>74</th>\n      <td>239</td>\n      <td>2020-04-06 18:39:48</td>\n      <td>Prophet: Forecasting At Scale</td>\n      <td>Tool for producing high quality forecasts for ...</td>\n      <td>time-series</td>\n      <td>prophet forecasting scale tool producing high ...</td>\n    </tr>\n    <tr>\n      <th>95</th>\n      <td>277</td>\n      <td>2020-04-07 00:30:33</td>\n      <td>Curriculum for Reinforcement Learning</td>\n      <td>Curriculum learning applied to reinforcement l...</td>\n      <td>reinforcement-learning</td>\n      <td>curriculum reinforcement learning curriculum l...</td>\n    </tr>\n  </tbody>\n</table>\n</div>"
     },
     "execution_count": 10,
     "metadata": {},
     "output_type": "execute_result"
    }
   ],
   "source": [
    "# Samples with OOS tags\n",
    "oos_indices = df[df.tag.isin(oos_tags)].index\n",
    "df[df.tag.isin(oos_tags)].head()"
   ],
   "metadata": {
    "collapsed": false,
    "pycharm": {
     "name": "#%%\n"
    }
   }
  },
  {
   "cell_type": "code",
   "execution_count": 11,
   "outputs": [
    {
     "data": {
      "text/plain": "     id           created_on                                       title  \\\n3    15  2020-02-28 23:55:26             Awesome Monte Carlo Tree Search   \n37  121  2020-03-24 04:56:38  Deep Reinforcement Learning in TensorFlow2   \n67  218  2020-04-06 11:29:57         Distributional RL using TensorFlow2   \n74  239  2020-04-06 18:39:48               Prophet: Forecasting At Scale   \n95  277  2020-04-07 00:30:33       Curriculum for Reinforcement Learning   \n\n                                          description    tag  \\\n3   A curated list of Monte Carlo tree search pape...  other   \n37  deep-rl-tf2 is a repository that implements a ...  other   \n67  🐳 Implementation of various Distributional Rei...  other   \n74  Tool for producing high quality forecasts for ...  other   \n95  Curriculum learning applied to reinforcement l...  other   \n\n                                                 text  \n3   awesome monte carlo tree search curated list m...  \n37  deep reinforcement learning tensorflow2 deep r...  \n67  distributional rl using tensorflow2 implementa...  \n74  prophet forecasting scale tool producing high ...  \n95  curriculum reinforcement learning curriculum l...  ",
      "text/html": "<div>\n<style scoped>\n    .dataframe tbody tr th:only-of-type {\n        vertical-align: middle;\n    }\n\n    .dataframe tbody tr th {\n        vertical-align: top;\n    }\n\n    .dataframe thead th {\n        text-align: right;\n    }\n</style>\n<table border=\"1\" class=\"dataframe\">\n  <thead>\n    <tr style=\"text-align: right;\">\n      <th></th>\n      <th>id</th>\n      <th>created_on</th>\n      <th>title</th>\n      <th>description</th>\n      <th>tag</th>\n      <th>text</th>\n    </tr>\n  </thead>\n  <tbody>\n    <tr>\n      <th>3</th>\n      <td>15</td>\n      <td>2020-02-28 23:55:26</td>\n      <td>Awesome Monte Carlo Tree Search</td>\n      <td>A curated list of Monte Carlo tree search pape...</td>\n      <td>other</td>\n      <td>awesome monte carlo tree search curated list m...</td>\n    </tr>\n    <tr>\n      <th>37</th>\n      <td>121</td>\n      <td>2020-03-24 04:56:38</td>\n      <td>Deep Reinforcement Learning in TensorFlow2</td>\n      <td>deep-rl-tf2 is a repository that implements a ...</td>\n      <td>other</td>\n      <td>deep reinforcement learning tensorflow2 deep r...</td>\n    </tr>\n    <tr>\n      <th>67</th>\n      <td>218</td>\n      <td>2020-04-06 11:29:57</td>\n      <td>Distributional RL using TensorFlow2</td>\n      <td>🐳 Implementation of various Distributional Rei...</td>\n      <td>other</td>\n      <td>distributional rl using tensorflow2 implementa...</td>\n    </tr>\n    <tr>\n      <th>74</th>\n      <td>239</td>\n      <td>2020-04-06 18:39:48</td>\n      <td>Prophet: Forecasting At Scale</td>\n      <td>Tool for producing high quality forecasts for ...</td>\n      <td>other</td>\n      <td>prophet forecasting scale tool producing high ...</td>\n    </tr>\n    <tr>\n      <th>95</th>\n      <td>277</td>\n      <td>2020-04-07 00:30:33</td>\n      <td>Curriculum for Reinforcement Learning</td>\n      <td>Curriculum learning applied to reinforcement l...</td>\n      <td>other</td>\n      <td>curriculum reinforcement learning curriculum l...</td>\n    </tr>\n  </tbody>\n</table>\n</div>"
     },
     "execution_count": 11,
     "metadata": {},
     "output_type": "execute_result"
    }
   ],
   "source": [
    "# Replace this tag with \"other\"\n",
    "df.tag = df.tag.apply(lambda x: \"other\" if x in oos_tags else x)\n",
    "df.iloc[oos_indices].head()"
   ],
   "metadata": {
    "collapsed": false,
    "pycharm": {
     "name": "#%%\n"
    }
   }
  },
  {
   "cell_type": "code",
   "execution_count": 12,
   "outputs": [],
   "source": [
    "# Minimum frequency required for a tag\n",
    "min_freq = 75\n",
    "tags = Counter(df.tag.values)"
   ],
   "metadata": {
    "collapsed": false,
    "pycharm": {
     "name": "#%%\n"
    }
   }
  },
  {
   "cell_type": "code",
   "execution_count": 13,
   "outputs": [
    {
     "data": {
      "text/plain": "interactive(children=(IntSlider(value=75, description='min_freq', max=388), Output()), _dom_classes=('widget-i…",
      "application/vnd.jupyter.widget-view+json": {
       "version_major": 2,
       "version_minor": 0,
       "model_id": "59cdd6a7b9bc4cf6a5d9cb29b1e4933e"
      }
     },
     "metadata": {},
     "output_type": "display_data"
    }
   ],
   "source": [
    "# Tags that just made / missed the cut\n",
    "@widgets.interact(min_freq=(0, tags.most_common()[0][1]))\n",
    "def separate_tags_by_freq(min_freq=min_freq):\n",
    "    tags_above_freq = Counter(tag for tag in tags.elements()\n",
    "                                    if tags[tag] >= min_freq)\n",
    "    tags_below_freq = Counter(tag for tag in tags.elements()\n",
    "                                    if tags[tag] < min_freq)\n",
    "    print (\"Most popular tags:\\n\", tags_above_freq.most_common(3))\n",
    "    print (\"\\nTags that just made the cut:\\n\", tags_above_freq.most_common()[-3:])\n",
    "    print (\"\\nTags that just missed the cut:\\n\", tags_below_freq.most_common(3))"
   ],
   "metadata": {
    "collapsed": false,
    "pycharm": {
     "name": "#%%\n"
    }
   }
  },
  {
   "cell_type": "code",
   "execution_count": 14,
   "outputs": [],
   "source": [
    "def filter(tag, include=[]):\n",
    "    \"\"\"Determine if a given tag is to be included.\"\"\"\n",
    "    if tag not in include:\n",
    "        tag = None\n",
    "    return tag"
   ],
   "metadata": {
    "collapsed": false,
    "pycharm": {
     "name": "#%%\n"
    }
   }
  },
  {
   "cell_type": "code",
   "execution_count": 15,
   "outputs": [],
   "source": [
    "# Filter tags that have fewer than <min_freq> occurrences\n",
    "tags_above_freq = Counter(tag for tag in tags.elements()\n",
    "                          if (tags[tag] >= min_freq))\n",
    "df.tag = df.tag.apply(filter, include=list(tags_above_freq.keys()))"
   ],
   "metadata": {
    "collapsed": false,
    "pycharm": {
     "name": "#%%\n"
    }
   }
  },
  {
   "cell_type": "code",
   "execution_count": 16,
   "outputs": [],
   "source": [
    "# Fill None with other\n",
    "df.tag = df.tag.fillna(\"other\")"
   ],
   "metadata": {
    "collapsed": false,
    "pycharm": {
     "name": "#%%\n"
    }
   }
  },
  {
   "cell_type": "code",
   "execution_count": 17,
   "outputs": [],
   "source": [
    "# Get data\n",
    "X = df.text.to_numpy()\n",
    "y = df.tag"
   ],
   "metadata": {
    "collapsed": false,
    "pycharm": {
     "name": "#%%\n"
    }
   }
  },
  {
   "cell_type": "code",
   "execution_count": 18,
   "outputs": [],
   "source": [
    "# Encode\n",
    "label_encoder = LabelEncoder()\n",
    "label_encoder.fit(y)\n",
    "num_classes = len(label_encoder)"
   ],
   "metadata": {
    "collapsed": false,
    "pycharm": {
     "name": "#%%\n"
    }
   }
  },
  {
   "cell_type": "code",
   "execution_count": 19,
   "outputs": [
    {
     "data": {
      "text/plain": "{'computer-vision': 0,\n 'mlops': 1,\n 'natural-language-processing': 2,\n 'other': 3}"
     },
     "execution_count": 19,
     "metadata": {},
     "output_type": "execute_result"
    }
   ],
   "source": [
    "label_encoder.class_to_index"
   ],
   "metadata": {
    "collapsed": false,
    "pycharm": {
     "name": "#%%\n"
    }
   }
  },
  {
   "cell_type": "code",
   "execution_count": 20,
   "outputs": [
    {
     "data": {
      "text/plain": "{0: 'computer-vision',\n 1: 'mlops',\n 2: 'natural-language-processing',\n 3: 'other'}"
     },
     "execution_count": 20,
     "metadata": {},
     "output_type": "execute_result"
    }
   ],
   "source": [
    "label_encoder.index_to_class"
   ],
   "metadata": {
    "collapsed": false,
    "pycharm": {
     "name": "#%%\n"
    }
   }
  },
  {
   "cell_type": "code",
   "execution_count": 21,
   "outputs": [
    {
     "name": "stdout",
     "output_type": "stream",
     "text": [
      "(955,)\n"
     ]
    }
   ],
   "source": [
    "# Encode all our labels\n",
    "y = label_encoder.encode(y)\n",
    "print (y.shape)"
   ],
   "metadata": {
    "collapsed": false,
    "pycharm": {
     "name": "#%%\n"
    }
   }
  },
  {
   "cell_type": "code",
   "execution_count": 24,
   "outputs": [
    {
     "name": "stdout",
     "output_type": "stream",
     "text": [
      "Stored 'X' (ndarray)\n",
      "Stored 'y' (ndarray)\n"
     ]
    }
   ],
   "source": [
    "%store X\n",
    "%store y"
   ],
   "metadata": {
    "collapsed": false,
    "pycharm": {
     "name": "#%%\n"
    }
   }
  },
  {
   "cell_type": "code",
   "execution_count": null,
   "outputs": [],
   "source": [],
   "metadata": {
    "collapsed": false,
    "pycharm": {
     "name": "#%%\n"
    }
   }
  }
 ],
 "metadata": {
  "kernelspec": {
   "display_name": "Python 3",
   "language": "python",
   "name": "python3"
  },
  "language_info": {
   "codemirror_mode": {
    "name": "ipython",
    "version": 2
   },
   "file_extension": ".py",
   "mimetype": "text/x-python",
   "name": "python",
   "nbconvert_exporter": "python",
   "pygments_lexer": "ipython2",
   "version": "2.7.6"
  }
 },
 "nbformat": 4,
 "nbformat_minor": 0
}